{
 "cells": [
  {
   "cell_type": "markdown",
   "metadata": {},
   "source": [
    "# Data construction \n",
    "\n",
    "This file takes the raw datasets and creates the output `covid.csv`. \n",
    "\n",
    "Sources: You must download the following files and save them in a subfolder called `Raw`. Note that the Apple dataset changes name (the suffix is the date of the final update). \n",
    "\n",
    "* OWID Covid dataset: https://ourworldindata.org/coronavirus-source-data. Covid dataset with deaths, tests, cases, and time-constant country information. \n",
    "* Apple mobility data: https://covid19.apple.com/mobility: Daily data on mobility from Apple's devices. \n",
    "* Climate data, from the US' NOAA: ftp://ftp.ncdc.noaa.gov/pub/data/ghcn/daily/: Daily data from weather stations across the world. The raw data file is `2020.csv.gz` (direct link: ftp://ftp.ncdc.noaa.gov/pub/data/ghcn/daily/by_year/2020.csv.gz)\n",
    "    * Additionally, a list of NOAA country classifications (like ISO2): should be saved under the filename `2020_countries.txt`): https://www1.ncdc.noaa.gov/pub/data/ghcn/daily/ghcnd-countries.txt\n",
    "* Google mobility data: https://www.google.com/covid19/mobility/"
   ]
  },
  {
   "cell_type": "markdown",
   "metadata": {},
   "source": [
    "# Setup "
   ]
  },
  {
   "cell_type": "code",
   "execution_count": 1,
   "metadata": {},
   "outputs": [],
   "source": [
    "import pandas as pd \n",
    "import numpy as np "
   ]
  },
  {
   "cell_type": "markdown",
   "metadata": {},
   "source": [
    "## Unzip weather data\n",
    "\n",
    "The raw file comes in .gz format. "
   ]
  },
  {
   "cell_type": "code",
   "execution_count": 2,
   "metadata": {},
   "outputs": [],
   "source": [
    "import os"
   ]
  },
  {
   "cell_type": "code",
   "execution_count": 3,
   "metadata": {},
   "outputs": [],
   "source": [
    "import gzip\n",
    "import shutil\n",
    "with gzip.open('Raw/2020.csv.gz', 'rb') as f_in:\n",
    "    with open('Raw/2020.csv', 'wb') as f_out:\n",
    "        shutil.copyfileobj(f_in, f_out)"
   ]
  },
  {
   "cell_type": "code",
   "execution_count": 4,
   "metadata": {},
   "outputs": [],
   "source": [
    "AppleFile = 'raw/applemobilitytrends-2020-10-22.csv' # <- update the date if you have downloaded a new version "
   ]
  },
  {
   "cell_type": "markdown",
   "metadata": {},
   "source": [
    "# Read in"
   ]
  },
  {
   "cell_type": "markdown",
   "metadata": {},
   "source": [
    "**COVID data** "
   ]
  },
  {
   "cell_type": "code",
   "execution_count": 6,
   "metadata": {},
   "outputs": [],
   "source": [
    "C = pd.read_csv('raw/owid-covid-data.csv').rename(columns={'location':'country'})\n",
    "C.date = pd.to_datetime(C.date)\n",
    "# Drop a few observations \n",
    "Ikeep = ((C.iso_code.isin(['OWID_KOS', 'OWID_WRL'])) | (C.iso_code.isnull())) == False\n",
    "C = C.loc[Ikeep, :]"
   ]
  },
  {
   "cell_type": "code",
   "execution_count": 7,
   "metadata": {},
   "outputs": [],
   "source": [
    "# list of all countries we have Covid data for: ISO3 code and name \n",
    "countries_C = C[['iso_code', 'country']].drop_duplicates()"
   ]
  },
  {
   "cell_type": "markdown",
   "metadata": {},
   "source": [
    "**Apple Mobility data**"
   ]
  },
  {
   "cell_type": "code",
   "execution_count": 8,
   "metadata": {},
   "outputs": [],
   "source": [
    "A = pd.read_csv(AppleFile, low_memory=False) # low-memory option required since column 3 has mixed types... apparrently "
   ]
  },
  {
   "cell_type": "markdown",
   "metadata": {},
   "source": [
    "**Temperature data** (from NOAA). This data unfortunately stores country names in ISO2 format, so we will have to merge between ISO2 and ISO3. The dataset contains many additional weather-related variables which we will not use. "
   ]
  },
  {
   "cell_type": "code",
   "execution_count": 9,
   "metadata": {},
   "outputs": [],
   "source": [
    "# the variables, x1-x4, contain detailed information about the sensor data point\n",
    "# for instance, some of them are error codes\n",
    "T = pd.read_csv('raw/2020.csv', names=['station_id', 'date', 'statistic', 'value', 'flag_measurement', 'flag_quality','flag_source', 'flag_value'])\n",
    "T.date = pd.to_datetime(T.date, format='%Y%m%d')\n",
    "\n",
    "# ISO2 name of teh country in NOAA format\n",
    "T['country_iso2'] = T.station_id.str[:2]"
   ]
  },
  {
   "cell_type": "markdown",
   "metadata": {},
   "source": [
    "Only keep temperature information and convert to celsius"
   ]
  },
  {
   "cell_type": "code",
   "execution_count": 10,
   "metadata": {},
   "outputs": [],
   "source": [
    "T = T[T.statistic == 'TAVG'].copy()\n",
    "T.value = T.value / 10.0 # baseline is measured in tenths of degrees celsius(!) "
   ]
  },
  {
   "cell_type": "markdown",
   "metadata": {},
   "source": [
    "ISO2-to-name list: Fortunately, the NOAA provides a list of their ISO2 country name abbreviations"
   ]
  },
  {
   "cell_type": "code",
   "execution_count": 11,
   "metadata": {},
   "outputs": [],
   "source": [
    "Tc = pd.read_csv('raw/2020_countries.txt', names=['country_iso2','country']).set_index('country_iso2').sort_index()\n",
    "Tc.country = Tc.country.str.strip()"
   ]
  },
  {
   "cell_type": "markdown",
   "metadata": {},
   "source": [
    "Google data"
   ]
  },
  {
   "cell_type": "code",
   "execution_count": 12,
   "metadata": {},
   "outputs": [],
   "source": [
    "goog = pd.read_csv('Raw/Global_Mobility_Report.csv', low_memory = False)\n",
    "goog = goog[(goog.sub_region_1.isnull()) & (goog.metro_area.isnull())] # only entire countries"
   ]
  },
  {
   "cell_type": "code",
   "execution_count": 13,
   "metadata": {},
   "outputs": [],
   "source": [
    "vv = [f'sub_region_{i}' for i in [1,2]]\n",
    "for v in vv + ['metro_area', 'iso_3166_2_code', 'census_fips_code']: \n",
    "    assert goog[v].isnull().all() # \n",
    "    del goog[v]"
   ]
  },
  {
   "cell_type": "code",
   "execution_count": 14,
   "metadata": {},
   "outputs": [],
   "source": [
    "goog.date = pd.to_datetime(goog.date)"
   ]
  },
  {
   "cell_type": "markdown",
   "metadata": {},
   "source": [
    "# Construct a key between country names in the COVID and temperature datasets"
   ]
  },
  {
   "cell_type": "code",
   "execution_count": 15,
   "metadata": {},
   "outputs": [],
   "source": [
    "countries_C = pd.merge(countries_C, Tc.reset_index(), on='country', how='left')"
   ]
  },
  {
   "cell_type": "code",
   "execution_count": 16,
   "metadata": {},
   "outputs": [
    {
     "name": "stdout",
     "output_type": "stream",
     "text": [
      "There are 48 (of 210) where we cannot find them (either the name is spelled differently or there is no station)\n"
     ]
    }
   ],
   "source": [
    "I = countries_C.country_iso2.isnull()\n",
    "print(f'There are {I.sum()} (of {I.shape[0]}) where we cannot find them (either the name is spelled differently or there is no station)')"
   ]
  },
  {
   "cell_type": "markdown",
   "metadata": {},
   "source": [
    "# Compute daily average temperatures across weather stations\n",
    "\n",
    "The NOAA dataset contains many weather monitoring stations and reports data on a number of different statistics. The unit of observation is a `station_id`-`date`-`statistic` triplet. We are only interested in one statistic, namely `TAVG` (the daily average temperature). One might additionally consider dropping observations where `flag_quality` indicates a problem with the measurement. "
   ]
  },
  {
   "cell_type": "markdown",
   "metadata": {},
   "source": [
    "Compute average of `TAVG` within a (country, date)-pair. \n",
    "\n",
    "NOTE: Temperatures are measured in *tenths of degrees celsius*. "
   ]
  },
  {
   "cell_type": "code",
   "execution_count": 17,
   "metadata": {},
   "outputs": [],
   "source": [
    "I = (T.statistic == 'TAVG')\n",
    "meanT = T.loc[I, ['date', 'country_iso2', 'value']].groupby(['date', 'country_iso2']).value.mean().reset_index().rename(columns={'value':'temperature'})"
   ]
  },
  {
   "cell_type": "markdown",
   "metadata": {},
   "source": [
    "Merge on the country names from the Covid data"
   ]
  },
  {
   "cell_type": "code",
   "execution_count": 18,
   "metadata": {},
   "outputs": [],
   "source": [
    "CandT = pd.merge(countries_C, meanT, on='country_iso2') "
   ]
  },
  {
   "cell_type": "markdown",
   "metadata": {},
   "source": [
    "## Example of temperatures "
   ]
  },
  {
   "cell_type": "code",
   "execution_count": 19,
   "metadata": {},
   "outputs": [],
   "source": [
    "ax = CandT[CandT.country_iso2.isin([\"DA\", \"SW\", \"UK\"])].set_index(['date', 'country_iso2']).unstack().plot(); "
   ]
  },
  {
   "cell_type": "code",
   "execution_count": 20,
   "metadata": {},
   "outputs": [
    {
     "data": {
      "image/png": "[encoded data removed]",
      "text/plain": [
       "<Figure size 432x288 with 1 Axes>"
      ]
     },
     "metadata": {
      "needs_background": "light"
     },
     "output_type": "display_data"
    }
   ],
   "source": [
    "ax = CandT[CandT.country_iso2.isin([\"FR\", \"ES\", \"IT\", \"US\", \"NZ\"])].set_index(['date', 'country_iso2']).unstack().plot(); "
   ]
  },
  {
   "cell_type": "markdown",
   "metadata": {},
   "source": [
    "# Apple data \n",
    "\n",
    "The Apple mobilitiy data contains indices for mobility, which are based on the relative search volume for trips in the Apple maps platform (releative to January 13 2020). It is a panel over location and date, where locations can be either entire countries or sub-regions or cities. We will focus on entire countries and delete all the other information. "
   ]
  },
  {
   "cell_type": "code",
   "execution_count": 21,
   "metadata": {},
   "outputs": [],
   "source": [
    "# only retain country-wide data\n",
    "A = A[A.geo_type == 'country/region'].copy()\n",
    "for v in ['geo_type', 'alternative_name', 'sub-region', 'country']: \n",
    "    del A[v]"
   ]
  },
  {
   "cell_type": "markdown",
   "metadata": {},
   "source": [
    "## Convert from wide to long\n",
    "\n",
    "The dataset has dates in the columns rather than rows. I.e. it is in *wide* format. "
   ]
  },
  {
   "cell_type": "code",
   "execution_count": 22,
   "metadata": {},
   "outputs": [],
   "source": [
    "# dictionaries to rename columns\n",
    "# assumes that all columns from 2 and onwards are the date variables\n",
    "# we have to insert a \"v\" in front of the variable name to force pandas \n",
    "# to think of the variable as a string. \n",
    "ren = {v:f'v{i}' for i,v in enumerate(A.columns[2:])}\n",
    "ren_back = {i:v for i,v in enumerate(A.columns[2:])} # this will get us back \n",
    "\n",
    "R = pd.wide_to_long(A.rename(columns=ren), stubnames='v', i=['region', 'transportation_type'], j='date')"
   ]
  },
  {
   "cell_type": "code",
   "execution_count": 23,
   "metadata": {},
   "outputs": [],
   "source": [
    "R = R.reset_index(level='date') # make date a variable and not a part of the index\n",
    "R.date = R.date.map(ren_back) # convert from {0,1,2,...} to the correspondinig dates\n",
    "R.date = pd.to_datetime(R.date) # convert from Object to Datetime \n",
    "R = R.reset_index().rename(columns={'v':'mobility', 'region':'country'})"
   ]
  },
  {
   "cell_type": "code",
   "execution_count": 24,
   "metadata": {},
   "outputs": [],
   "source": [
    "# long to wide: get one row per country, and different transportation types as variables\n",
    "R = R.set_index(['country', 'date', 'transportation_type']).unstack()\n",
    "\n",
    "# collapse multilevel column index \n",
    "R.columns = [' '.join(col).strip() for col in R.columns.values]\n",
    "R.sort_index(inplace=True)\n",
    "\n",
    "# spaces in names are problematic: make underscores\n",
    "R.columns = [x.replace(' ', '_') for x in R.columns.values]"
   ]
  },
  {
   "cell_type": "code",
   "execution_count": 25,
   "metadata": {},
   "outputs": [
    {
     "data": {
      "text/html": [
       "<div>\n",
       "<style scoped>\n",
       "    .dataframe tbody tr th:only-of-type {\n",
       "        vertical-align: middle;\n",
       "    }\n",
       "\n",
       "    .dataframe tbody tr th {\n",
       "        vertical-align: top;\n",
       "    }\n",
       "\n",
       "    .dataframe thead th {\n",
       "        text-align: right;\n",
       "    }\n",
       "</style>\n",
       "<table border=\"1\" class=\"dataframe\">\n",
       "  <thead>\n",
       "    <tr style=\"text-align: right;\">\n",
       "      <th></th>\n",
       "      <th></th>\n",
       "      <th>mobility_driving</th>\n",
       "      <th>mobility_transit</th>\n",
       "      <th>mobility_walking</th>\n",
       "    </tr>\n",
       "    <tr>\n",
       "      <th>country</th>\n",
       "      <th>date</th>\n",
       "      <th></th>\n",
       "      <th></th>\n",
       "      <th></th>\n",
       "    </tr>\n",
       "  </thead>\n",
       "  <tbody>\n",
       "    <tr>\n",
       "      <td rowspan=\"5\" valign=\"top\">Albania</td>\n",
       "      <td>2020-01-13</td>\n",
       "      <td>100.00</td>\n",
       "      <td>NaN</td>\n",
       "      <td>100.00</td>\n",
       "    </tr>\n",
       "    <tr>\n",
       "      <td>2020-01-14</td>\n",
       "      <td>95.30</td>\n",
       "      <td>NaN</td>\n",
       "      <td>100.68</td>\n",
       "    </tr>\n",
       "    <tr>\n",
       "      <td>2020-01-15</td>\n",
       "      <td>101.43</td>\n",
       "      <td>NaN</td>\n",
       "      <td>98.93</td>\n",
       "    </tr>\n",
       "    <tr>\n",
       "      <td>2020-01-16</td>\n",
       "      <td>97.20</td>\n",
       "      <td>NaN</td>\n",
       "      <td>98.46</td>\n",
       "    </tr>\n",
       "    <tr>\n",
       "      <td>2020-01-17</td>\n",
       "      <td>103.55</td>\n",
       "      <td>NaN</td>\n",
       "      <td>100.85</td>\n",
       "    </tr>\n",
       "    <tr>\n",
       "      <td>...</td>\n",
       "      <td>...</td>\n",
       "      <td>...</td>\n",
       "      <td>...</td>\n",
       "      <td>...</td>\n",
       "    </tr>\n",
       "    <tr>\n",
       "      <td rowspan=\"5\" valign=\"top\">Vietnam</td>\n",
       "      <td>2020-10-18</td>\n",
       "      <td>108.41</td>\n",
       "      <td>NaN</td>\n",
       "      <td>133.63</td>\n",
       "    </tr>\n",
       "    <tr>\n",
       "      <td>2020-10-19</td>\n",
       "      <td>105.35</td>\n",
       "      <td>NaN</td>\n",
       "      <td>132.35</td>\n",
       "    </tr>\n",
       "    <tr>\n",
       "      <td>2020-10-20</td>\n",
       "      <td>104.67</td>\n",
       "      <td>NaN</td>\n",
       "      <td>134.24</td>\n",
       "    </tr>\n",
       "    <tr>\n",
       "      <td>2020-10-21</td>\n",
       "      <td>100.97</td>\n",
       "      <td>NaN</td>\n",
       "      <td>122.79</td>\n",
       "    </tr>\n",
       "    <tr>\n",
       "      <td>2020-10-22</td>\n",
       "      <td>103.96</td>\n",
       "      <td>NaN</td>\n",
       "      <td>128.54</td>\n",
       "    </tr>\n",
       "  </tbody>\n",
       "</table>\n",
       "<p>17892 rows × 3 columns</p>\n",
       "</div>"
      ],
      "text/plain": [
       "                    mobility_driving  mobility_transit  mobility_walking\n",
       "country date                                                            \n",
       "Albania 2020-01-13            100.00               NaN            100.00\n",
       "        2020-01-14             95.30               NaN            100.68\n",
       "        2020-01-15            101.43               NaN             98.93\n",
       "        2020-01-16             97.20               NaN             98.46\n",
       "        2020-01-17            103.55               NaN            100.85\n",
       "...                              ...               ...               ...\n",
       "Vietnam 2020-10-18            108.41               NaN            133.63\n",
       "        2020-10-19            105.35               NaN            132.35\n",
       "        2020-10-20            104.67               NaN            134.24\n",
       "        2020-10-21            100.97               NaN            122.79\n",
       "        2020-10-22            103.96               NaN            128.54\n",
       "\n",
       "[17892 rows x 3 columns]"
      ]
     },
     "execution_count": 25,
     "metadata": {},
     "output_type": "execute_result"
    }
   ],
   "source": [
    "# look at the beautiful frame\n",
    "R"
   ]
  },
  {
   "cell_type": "code",
   "execution_count": 26,
   "metadata": {},
   "outputs": [
    {
     "data": {
      "text/html": [
       "<div>\n",
       "<style scoped>\n",
       "    .dataframe tbody tr th:only-of-type {\n",
       "        vertical-align: middle;\n",
       "    }\n",
       "\n",
       "    .dataframe tbody tr th {\n",
       "        vertical-align: top;\n",
       "    }\n",
       "\n",
       "    .dataframe thead th {\n",
       "        text-align: right;\n",
       "    }\n",
       "</style>\n",
       "<table border=\"1\" class=\"dataframe\">\n",
       "  <thead>\n",
       "    <tr style=\"text-align: right;\">\n",
       "      <th></th>\n",
       "      <th>iso_code</th>\n",
       "      <th>country</th>\n",
       "      <th>country_iso2</th>\n",
       "    </tr>\n",
       "  </thead>\n",
       "  <tbody>\n",
       "    <tr>\n",
       "      <td>0</td>\n",
       "      <td>AFG</td>\n",
       "      <td>Afghanistan</td>\n",
       "      <td>AF</td>\n",
       "    </tr>\n",
       "    <tr>\n",
       "      <td>1</td>\n",
       "      <td>ALB</td>\n",
       "      <td>Albania</td>\n",
       "      <td>AL</td>\n",
       "    </tr>\n",
       "    <tr>\n",
       "      <td>2</td>\n",
       "      <td>DZA</td>\n",
       "      <td>Algeria</td>\n",
       "      <td>AG</td>\n",
       "    </tr>\n",
       "    <tr>\n",
       "      <td>3</td>\n",
       "      <td>AND</td>\n",
       "      <td>Andorra</td>\n",
       "      <td>NaN</td>\n",
       "    </tr>\n",
       "    <tr>\n",
       "      <td>4</td>\n",
       "      <td>AGO</td>\n",
       "      <td>Angola</td>\n",
       "      <td>AO</td>\n",
       "    </tr>\n",
       "    <tr>\n",
       "      <td>...</td>\n",
       "      <td>...</td>\n",
       "      <td>...</td>\n",
       "      <td>...</td>\n",
       "    </tr>\n",
       "    <tr>\n",
       "      <td>205</td>\n",
       "      <td>VNM</td>\n",
       "      <td>Vietnam</td>\n",
       "      <td>VM</td>\n",
       "    </tr>\n",
       "    <tr>\n",
       "      <td>206</td>\n",
       "      <td>ESH</td>\n",
       "      <td>Western Sahara</td>\n",
       "      <td>WI</td>\n",
       "    </tr>\n",
       "    <tr>\n",
       "      <td>207</td>\n",
       "      <td>YEM</td>\n",
       "      <td>Yemen</td>\n",
       "      <td>NaN</td>\n",
       "    </tr>\n",
       "    <tr>\n",
       "      <td>208</td>\n",
       "      <td>ZMB</td>\n",
       "      <td>Zambia</td>\n",
       "      <td>ZA</td>\n",
       "    </tr>\n",
       "    <tr>\n",
       "      <td>209</td>\n",
       "      <td>ZWE</td>\n",
       "      <td>Zimbabwe</td>\n",
       "      <td>ZI</td>\n",
       "    </tr>\n",
       "  </tbody>\n",
       "</table>\n",
       "<p>210 rows × 3 columns</p>\n",
       "</div>"
      ],
      "text/plain": [
       "    iso_code         country country_iso2\n",
       "0        AFG     Afghanistan           AF\n",
       "1        ALB         Albania           AL\n",
       "2        DZA         Algeria           AG\n",
       "3        AND         Andorra          NaN\n",
       "4        AGO          Angola           AO\n",
       "..       ...             ...          ...\n",
       "205      VNM         Vietnam           VM\n",
       "206      ESH  Western Sahara           WI\n",
       "207      YEM           Yemen          NaN\n",
       "208      ZMB          Zambia           ZA\n",
       "209      ZWE        Zimbabwe           ZI\n",
       "\n",
       "[210 rows x 3 columns]"
      ]
     },
     "execution_count": 26,
     "metadata": {},
     "output_type": "execute_result"
    }
   ],
   "source": [
    "countries_C"
   ]
  },
  {
   "cell_type": "markdown",
   "metadata": {},
   "source": [
    "# Merge Datasets"
   ]
  },
  {
   "cell_type": "markdown",
   "metadata": {},
   "source": [
    "## temperatures \n"
   ]
  },
  {
   "cell_type": "code",
   "execution_count": 27,
   "metadata": {},
   "outputs": [],
   "source": [
    "C2 = pd.merge(C, CandT[['iso_code', 'temperature', 'date']], on=['iso_code', 'date'], how='left')"
   ]
  },
  {
   "cell_type": "markdown",
   "metadata": {},
   "source": [
    "## mobility"
   ]
  },
  {
   "cell_type": "code",
   "execution_count": 28,
   "metadata": {},
   "outputs": [],
   "source": [
    "C2 = C2.set_index(['country', 'date']).sort_index()"
   ]
  },
  {
   "cell_type": "code",
   "execution_count": 29,
   "metadata": {},
   "outputs": [],
   "source": [
    "C2 = C2.join(R)"
   ]
  },
  {
   "cell_type": "markdown",
   "metadata": {},
   "source": [
    "Print some details about the failed merges between the Apple and Covid datasets. "
   ]
  },
  {
   "cell_type": "code",
   "execution_count": 30,
   "metadata": {},
   "outputs": [
    {
     "name": "stdout",
     "output_type": "stream",
     "text": [
      "No Covid data for these countries where we have Apple data: ['Macao', 'Republic of Korea']\n"
     ]
    }
   ],
   "source": [
    "cc = [c for c in R.index.get_level_values('country').unique() if c not in countries_C.country.values]\n",
    "print(f'No Covid data for these countries where we have Apple data: {cc}')"
   ]
  },
  {
   "cell_type": "code",
   "execution_count": 31,
   "metadata": {},
   "outputs": [
    {
     "name": "stdout",
     "output_type": "stream",
     "text": [
      "There are 149 countries where we have Covid data but no Apple mobility data (e.g. ['Libya' 'Western Sahara' 'Puerto Rico'])\n"
     ]
    }
   ],
   "source": [
    "cc = [c for c in countries_C.country.values if c not in R.index.get_level_values('country').unique()]\n",
    "print(f'There are {len(cc)} countries where we have Covid data but no Apple mobility data (e.g. {np.random.choice(cc, 3)})')"
   ]
  },
  {
   "cell_type": "code",
   "execution_count": 32,
   "metadata": {},
   "outputs": [
    {
     "name": "stdout",
     "output_type": "stream",
     "text": [
      "--- missing values in final dataset of apple mobilityi values ---\n"
     ]
    },
    {
     "data": {
      "text/plain": [
       "mobility_driving    0.687251\n",
       "mobility_walking    0.687251\n",
       "mobility_transit    0.852896\n",
       "dtype: float64"
      ]
     },
     "execution_count": 32,
     "metadata": {},
     "output_type": "execute_result"
    }
   ],
   "source": [
    "print('--- missing values in final dataset of apple mobilityi values ---')\n",
    "C2[['mobility_driving', 'mobility_walking', 'mobility_transit']].isnull().mean()"
   ]
  },
  {
   "cell_type": "markdown",
   "metadata": {},
   "source": [
    "## Google data"
   ]
  },
  {
   "cell_type": "markdown",
   "metadata": {},
   "source": [
    "The country region code does not conform with NOAA, so it is not currently in use. "
   ]
  },
  {
   "cell_type": "code",
   "execution_count": 33,
   "metadata": {},
   "outputs": [],
   "source": [
    "del goog['country_region_code']"
   ]
  },
  {
   "cell_type": "markdown",
   "metadata": {},
   "source": [
    "Variable names are so long that it causes problems sometimes. So we shorten them a bit. "
   ]
  },
  {
   "cell_type": "code",
   "execution_count": 34,
   "metadata": {},
   "outputs": [],
   "source": [
    "goog.rename(columns={\"country_region\":\"country\", \n",
    "                    'retail_and_recreation_percent_change_from_baseline':'location_retail_and_recreation',\n",
    "                    'grocery_and_pharmacy_percent_change_from_baseline':'location_grocery_and_pharmacy', 'parks_percent_change_from_baseline':'location_parks',\n",
    "                    'transit_stations_percent_change_from_baseline':'location_transit_stations','workplaces_percent_change_from_baseline':'location_workplaces',\n",
    "                    'residential_percent_change_from_baseline':'location_residential'}, inplace=True)"
   ]
  },
  {
   "cell_type": "markdown",
   "metadata": {},
   "source": [
    "Find the rows in the Google data that we have an exact match on for country. "
   ]
  },
  {
   "cell_type": "code",
   "execution_count": 35,
   "metadata": {},
   "outputs": [],
   "source": [
    "I = goog.country.isin(C2.index.get_level_values('country'))"
   ]
  },
  {
   "cell_type": "code",
   "execution_count": 36,
   "metadata": {},
   "outputs": [
    {
     "name": "stdout",
     "output_type": "stream",
     "text": [
      "We match 95.60% of rows\n"
     ]
    }
   ],
   "source": [
    "print(f'We match {100.*I.mean():5.2f}% of rows')"
   ]
  },
  {
   "cell_type": "markdown",
   "metadata": {},
   "source": [
    "Merge on to remaining dataset "
   ]
  },
  {
   "cell_type": "code",
   "execution_count": 37,
   "metadata": {},
   "outputs": [],
   "source": [
    "C2 = C2.join(goog[I].set_index(['country', 'date']))"
   ]
  },
  {
   "cell_type": "markdown",
   "metadata": {},
   "source": [
    "# Output"
   ]
  },
  {
   "cell_type": "code",
   "execution_count": 38,
   "metadata": {},
   "outputs": [],
   "source": [
    "C2.to_csv('covid.csv')"
   ]
  },
  {
   "cell_type": "code",
   "execution_count": 39,
   "metadata": {},
   "outputs": [],
   "source": [
    "os.remove('Raw/2020.csv')"
   ]
  }
 ],
 "metadata": {
  "kernelspec": {
   "display_name": "Python 3",
   "language": "python",
   "name": "python3"
  },
  "language_info": {
   "codemirror_mode": {
    "name": "ipython",
    "version": 3
   },
   "file_extension": ".py",
   "mimetype": "text/x-python",
   "name": "python",
   "nbconvert_exporter": "python",
   "pygments_lexer": "ipython3",
   "version": "3.7.4"
  }
 },
 "nbformat": 4,
 "nbformat_minor": 4
}
